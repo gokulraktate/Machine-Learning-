{
 "cells": [
  {
   "cell_type": "markdown",
   "id": "ac8000d3-76b7-4511-ba48-e0bb46f829b6",
   "metadata": {},
   "source": [
    "**ARRAY CREATION**"
   ]
  },
  {
   "cell_type": "code",
   "execution_count": 1,
   "id": "c58246c0-63a9-4dbd-b5a8-4ef053baeb2f",
   "metadata": {},
   "outputs": [],
   "source": [
    "import numpy\n"
   ]
  },
  {
   "cell_type": "code",
   "execution_count": 2,
   "id": "674421d9-b4c2-49b9-826e-6770b2975998",
   "metadata": {},
   "outputs": [
    {
     "name": "stdout",
     "output_type": "stream",
     "text": [
      "[1 2 3 4 5]\n"
     ]
    }
   ],
   "source": [
    "arr=numpy.array([1,2,3,4,5])\n",
    "print(arr)"
   ]
  },
  {
   "cell_type": "code",
   "execution_count": 3,
   "id": "d900e8a8-68ed-4b97-9583-86c829193b79",
   "metadata": {},
   "outputs": [
    {
     "name": "stdout",
     "output_type": "stream",
     "text": [
      "<class 'numpy.ndarray'>\n"
     ]
    }
   ],
   "source": [
    "print(type(arr))"
   ]
  },
  {
   "cell_type": "code",
   "execution_count": 5,
   "id": "7da4e50f-a591-4b46-a814-93c20c194d54",
   "metadata": {},
   "outputs": [],
   "source": [
    "import numpy as np"
   ]
  },
  {
   "cell_type": "code",
   "execution_count": 6,
   "id": "58bb5226-74c4-479a-b7bd-4d0a925aad53",
   "metadata": {
    "scrolled": true
   },
   "outputs": [
    {
     "name": "stdout",
     "output_type": "stream",
     "text": [
      "[1 2 3 4 5]\n"
     ]
    }
   ],
   "source": [
    "arr=np.array([1,2,3,4,5])\n",
    "print(arr)"
   ]
  },
  {
   "cell_type": "code",
   "execution_count": 7,
   "id": "7e8b28d2-9bd7-48de-b54e-9387aa1304a9",
   "metadata": {},
   "outputs": [
    {
     "name": "stdout",
     "output_type": "stream",
     "text": [
      "1.26.4\n"
     ]
    }
   ],
   "source": [
    "print(np.__version__)"
   ]
  },
  {
   "cell_type": "code",
   "execution_count": 8,
   "id": "4fb9e6d8-5d94-4513-9ea6-67deb2ac0fb8",
   "metadata": {},
   "outputs": [
    {
     "name": "stdout",
     "output_type": "stream",
     "text": [
      "[11 22 33 44]\n"
     ]
    }
   ],
   "source": [
    "a=np.array((11,22,33,44))\n",
    "print(a)"
   ]
  },
  {
   "cell_type": "code",
   "execution_count": 9,
   "id": "baf8ae74-e7c0-4c2f-a0de-ffea0c5b10cf",
   "metadata": {},
   "outputs": [
    {
     "name": "stdout",
     "output_type": "stream",
     "text": [
      "24\n"
     ]
    }
   ],
   "source": [
    "#0-D array\n",
    "arr=np.array(24)\n",
    "print(arr)"
   ]
  },
  {
   "cell_type": "code",
   "execution_count": 13,
   "id": "c43d53e0-174e-4617-8989-da7b63b08340",
   "metadata": {},
   "outputs": [
    {
     "name": "stdout",
     "output_type": "stream",
     "text": [
      "[1 2 3 4 5]\n"
     ]
    }
   ],
   "source": [
    "# 1-D array\n",
    "\n",
    "arr=np.array([1,2,3,4,5])\n",
    "print(arr)"
   ]
  },
  {
   "cell_type": "code",
   "execution_count": 14,
   "id": "a7c31fc0-6c91-450a-846f-1083aae978c6",
   "metadata": {},
   "outputs": [
    {
     "name": "stdout",
     "output_type": "stream",
     "text": [
      "[[1 2 3]\n",
      " [4 5 6]]\n"
     ]
    }
   ],
   "source": [
    "# 2-D array\n",
    "\n",
    "arr=np.array([[1,2,3],[4,5,6]])\n",
    "print(arr)"
   ]
  },
  {
   "cell_type": "code",
   "execution_count": 17,
   "id": "169980be-5bae-4637-b4d8-260a55be441f",
   "metadata": {
    "scrolled": true
   },
   "outputs": [
    {
     "name": "stdout",
     "output_type": "stream",
     "text": [
      "[[[1 2 3]\n",
      "  [4 5 6]]\n",
      "\n",
      " [[1 2 3]\n",
      "  [4 5 6]]]\n"
     ]
    }
   ],
   "source": [
    "#3-D array\n",
    "\n",
    "arr=np.array([[[1,2,3],[4,5,6]],[[1,2,3],[4,5,6]]])\n",
    "print(arr)"
   ]
  },
  {
   "cell_type": "markdown",
   "id": "d720e1c7-3f62-41d4-bfa9-dedfe4a48ccc",
   "metadata": {},
   "source": [
    "**CHECK NO OF DIMESTIONS**"
   ]
  },
  {
   "cell_type": "code",
   "execution_count": 18,
   "id": "7f9cca54-2f9f-4bf8-87d3-98b9cfd86a4e",
   "metadata": {},
   "outputs": [
    {
     "name": "stdout",
     "output_type": "stream",
     "text": [
      "3\n"
     ]
    }
   ],
   "source": [
    "print(arr.ndim)"
   ]
  },
  {
   "cell_type": "code",
   "execution_count": 19,
   "id": "5ce952d9-cf69-4eed-b088-2cf88a9ae5cd",
   "metadata": {},
   "outputs": [
    {
     "name": "stdout",
     "output_type": "stream",
     "text": [
      "0\n"
     ]
    }
   ],
   "source": [
    "a=np.array(42)\n",
    "\n",
    "print(a.ndim)"
   ]
  },
  {
   "cell_type": "code",
   "execution_count": 20,
   "id": "91e26c1b-2b02-4778-a981-97115080ee9d",
   "metadata": {},
   "outputs": [
    {
     "name": "stdout",
     "output_type": "stream",
     "text": [
      "1\n"
     ]
    }
   ],
   "source": [
    "arr=np.array([1,2,3,4,5])\n",
    "print(arr.ndim)"
   ]
  },
  {
   "cell_type": "markdown",
   "id": "d01412f8-6f3b-492d-a63e-0d184705e51f",
   "metadata": {},
   "source": [
    "**HIGHER DIMENTIONAL ARRAY**"
   ]
  },
  {
   "cell_type": "code",
   "execution_count": 23,
   "id": "4763c463-8a7c-4e60-bb02-9af20d3fb0f0",
   "metadata": {},
   "outputs": [
    {
     "name": "stdout",
     "output_type": "stream",
     "text": [
      "[[[1 2 3 4]]]\n",
      "Dimention: 3\n"
     ]
    }
   ],
   "source": [
    "a=np.array([1,2,3,4],ndmin=3)\n",
    "print(a)\n",
    "print(\"Dimention:\",a.ndim)"
   ]
  },
  {
   "cell_type": "markdown",
   "id": "5cd05d50-8a25-4b8e-a3d2-f341627d7c4a",
   "metadata": {},
   "source": [
    "**CHANGE THE DATATYPE**"
   ]
  },
  {
   "cell_type": "code",
   "execution_count": 24,
   "id": "5426f47c-0bbe-4de2-9341-8cc448e4bca5",
   "metadata": {},
   "outputs": [
    {
     "name": "stdout",
     "output_type": "stream",
     "text": [
      "[1.+0.j 2.+0.j 3.+0.j 4.+0.j]\n"
     ]
    }
   ],
   "source": [
    "arr=np.array([1,2,3,4],dtype=complex)\n",
    "print(arr)"
   ]
  },
  {
   "cell_type": "code",
   "execution_count": 25,
   "id": "7b374b7c-c411-400d-b8bd-6587c99ff43e",
   "metadata": {},
   "outputs": [
    {
     "name": "stdout",
     "output_type": "stream",
     "text": [
      "[1. 2. 3. 4.]\n"
     ]
    }
   ],
   "source": [
    "arr=np.array([1,2,3,4],dtype=float)\n",
    "print(arr)"
   ]
  },
  {
   "cell_type": "markdown",
   "id": "3d65fb4f-4d0c-4793-bdc7-5465effa9eed",
   "metadata": {},
   "source": [
    "**NUMPY ARRAY SIZE AND SHAPE**"
   ]
  },
  {
   "cell_type": "code",
   "execution_count": 26,
   "id": "7737cf04-697c-42ac-af4d-10373dab46d1",
   "metadata": {
    "scrolled": true
   },
   "outputs": [
    {
     "name": "stdout",
     "output_type": "stream",
     "text": [
      "Shape of array is: (2, 4)\n"
     ]
    }
   ],
   "source": [
    "arr=np.array([[1,2,3,4],[5,6,7,8]])\n",
    "print(\"Shape of array is:\",arr.shape)"
   ]
  },
  {
   "cell_type": "code",
   "execution_count": 27,
   "id": "19b47605-27f7-463d-824f-d3157e287204",
   "metadata": {},
   "outputs": [
    {
     "name": "stdout",
     "output_type": "stream",
     "text": [
      "Shape of array is: 8\n"
     ]
    }
   ],
   "source": [
    "arr=np.array([[1,2,3,4],[5,6,7,8]])\n",
    "print(\"Shape of array is:\",arr.size)"
   ]
  },
  {
   "cell_type": "markdown",
   "id": "0eff0b35-7e64-440b-af06-655044ddecfe",
   "metadata": {},
   "source": [
    "**NUMPY ARRAY INDEXING**"
   ]
  },
  {
   "cell_type": "code",
   "execution_count": 29,
   "id": "ef22d8e2-56e0-4d1e-bdec-2416d8894e8e",
   "metadata": {},
   "outputs": [
    {
     "name": "stdout",
     "output_type": "stream",
     "text": [
      "1\n"
     ]
    }
   ],
   "source": [
    "arr=np.array([1,2,3,4])\n",
    "print(arr[0])"
   ]
  },
  {
   "cell_type": "code",
   "execution_count": 30,
   "id": "ec599cdf-662f-4b7c-881e-ec0d3d6deede",
   "metadata": {},
   "outputs": [
    {
     "name": "stdout",
     "output_type": "stream",
     "text": [
      "4\n"
     ]
    }
   ],
   "source": [
    "print(arr[3])\n"
   ]
  },
  {
   "cell_type": "code",
   "execution_count": 31,
   "id": "ce383936-7145-49d9-a296-f9982b576ae0",
   "metadata": {},
   "outputs": [
    {
     "name": "stdout",
     "output_type": "stream",
     "text": [
      "7\n"
     ]
    }
   ],
   "source": [
    "print(arr[2]+arr[3])"
   ]
  },
  {
   "cell_type": "markdown",
   "id": "c1a6c7f5-6523-4386-8c04-33402493040d",
   "metadata": {},
   "source": [
    "**ACCESS 2-D ARRAY**"
   ]
  },
  {
   "cell_type": "code",
   "execution_count": 32,
   "id": "dc0844ba-548b-48c5-86e5-50205f58e36e",
   "metadata": {},
   "outputs": [
    {
     "name": "stdout",
     "output_type": "stream",
     "text": [
      "2\n"
     ]
    }
   ],
   "source": [
    "arr=np.array([[1,2,3,4],[5,6,7,8]])\n",
    "print(arr[0,1])"
   ]
  },
  {
   "cell_type": "code",
   "execution_count": 33,
   "id": "1fb6b7f0-61dc-46f7-998f-f5cea2a1e752",
   "metadata": {},
   "outputs": [
    {
     "name": "stdout",
     "output_type": "stream",
     "text": [
      "6\n"
     ]
    }
   ],
   "source": [
    "arr=np.array([[1,2,3,4],[5,6,7,8]])\n",
    "print(arr[1,1])"
   ]
  },
  {
   "cell_type": "markdown",
   "id": "6ffda22d-72bb-42ad-9958-ef18f09ad446",
   "metadata": {},
   "source": [
    "**ACCESS 3-D ARRAY**"
   ]
  },
  {
   "cell_type": "code",
   "execution_count": 35,
   "id": "eb0ae71a-a684-49b3-bdbb-1e39d4861eab",
   "metadata": {},
   "outputs": [
    {
     "name": "stdout",
     "output_type": "stream",
     "text": [
      "6\n"
     ]
    }
   ],
   "source": [
    "arr=np.array([[[1,2,3],[4,5,6]],[[1,2,3],[4,5,6]]])\n",
    "print(arr[0,1,2])"
   ]
  },
  {
   "cell_type": "markdown",
   "id": "ffc2baa3-6479-40e8-adeb-c953ef50d607",
   "metadata": {},
   "source": [
    "**CREATING A SEQUENCE OF INTEGER USING ARANGE()**"
   ]
  },
  {
   "cell_type": "code",
   "execution_count": 36,
   "id": "245d20dc-45ae-4b8e-a531-1d86dc260d55",
   "metadata": {},
   "outputs": [
    {
     "name": "stdout",
     "output_type": "stream",
     "text": [
      "[ 0  1  2  3  4  5  6  7  8  9 10]\n"
     ]
    }
   ],
   "source": [
    "arr=np.arange(11)\n",
    "print(arr)"
   ]
  },
  {
   "cell_type": "code",
   "execution_count": 38,
   "id": "f389bf03-8151-4bf3-8651-4d45d7bfb906",
   "metadata": {},
   "outputs": [
    {
     "name": "stdout",
     "output_type": "stream",
     "text": [
      "A sequence array with step of 3 :\n",
      " [ 0  3  6  9 12 15 18]\n"
     ]
    }
   ],
   "source": [
    "arr=np.arange(0,20,3)\n",
    "print(\"A sequence array with step of 3 :\\n\",arr)"
   ]
  },
  {
   "cell_type": "code",
   "execution_count": 39,
   "id": "14c63ddb-2eb8-4a14-a46c-2c776b2e005e",
   "metadata": {},
   "outputs": [
    {
     "name": "stdout",
     "output_type": "stream",
     "text": [
      "[ 0  1  2  3  4  5  6  7  8  9 10]\n"
     ]
    }
   ],
   "source": [
    "arr=np.arange(11)\n",
    "print(arr)"
   ]
  },
  {
   "cell_type": "code",
   "execution_count": 40,
   "id": "d678452c-32b9-4c16-998b-52bf8bcf2acd",
   "metadata": {},
   "outputs": [
    {
     "name": "stdout",
     "output_type": "stream",
     "text": [
      "2\n"
     ]
    }
   ],
   "source": [
    "print(arr[2])"
   ]
  },
  {
   "cell_type": "code",
   "execution_count": 41,
   "id": "1a3c1a3b-9d87-4569-985d-6ee2f352df89",
   "metadata": {},
   "outputs": [
    {
     "name": "stdout",
     "output_type": "stream",
     "text": [
      "9\n"
     ]
    }
   ],
   "source": [
    "print(arr[-2])"
   ]
  },
  {
   "cell_type": "code",
   "execution_count": 43,
   "id": "c29e521b-2345-4de2-9974-f88bf096e39d",
   "metadata": {},
   "outputs": [
    {
     "name": "stdout",
     "output_type": "stream",
     "text": [
      "9\n"
     ]
    }
   ],
   "source": [
    "print(len(arr)-2)"
   ]
  },
  {
   "cell_type": "code",
   "execution_count": 44,
   "id": "161cc24b-b33e-4fd6-acbd-7cb7056e08d9",
   "metadata": {},
   "outputs": [
    {
     "name": "stdout",
     "output_type": "stream",
     "text": [
      "[[1 2 3 4]\n",
      " [5 6 7 8]]\n"
     ]
    }
   ],
   "source": [
    "arr=np.array([[1,2,3,4],[5,6,7,8]])\n",
    "print(arr)"
   ]
  },
  {
   "cell_type": "code",
   "execution_count": 45,
   "id": "c34a81d0-0824-43d5-b505-6218dc2d4e26",
   "metadata": {},
   "outputs": [
    {
     "name": "stdout",
     "output_type": "stream",
     "text": [
      "(2, 4)\n"
     ]
    }
   ],
   "source": [
    "print(arr.shape)"
   ]
  },
  {
   "cell_type": "code",
   "execution_count": 47,
   "id": "8a712add-79fd-4ca2-ac11-406ae05e658b",
   "metadata": {},
   "outputs": [
    {
     "name": "stdout",
     "output_type": "stream",
     "text": [
      "8\n"
     ]
    }
   ],
   "source": [
    "print(arr[1,3])"
   ]
  },
  {
   "cell_type": "code",
   "execution_count": null,
   "id": "9a4199de-686a-4693-8934-3a2143a67bde",
   "metadata": {},
   "outputs": [],
   "source": []
  }
 ],
 "metadata": {
  "kernelspec": {
   "display_name": "Python 3 (ipykernel)",
   "language": "python",
   "name": "python3"
  },
  "language_info": {
   "codemirror_mode": {
    "name": "ipython",
    "version": 3
   },
   "file_extension": ".py",
   "mimetype": "text/x-python",
   "name": "python",
   "nbconvert_exporter": "python",
   "pygments_lexer": "ipython3",
   "version": "3.12.4"
  }
 },
 "nbformat": 4,
 "nbformat_minor": 5
}
